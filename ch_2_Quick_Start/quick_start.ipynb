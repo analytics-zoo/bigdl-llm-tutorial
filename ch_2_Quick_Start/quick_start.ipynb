{
 "cells": [
  {
   "attachments": {},
   "cell_type": "markdown",
   "metadata": {},
   "source": [
    "# Notebook: Quick Start\n",
    "\n",
    "With the environment set up, we now move into the hands-on tutorial to build an application for infering on a large language model with BigDL-LLM transformers INT4 optimization.\n",
    "\n",
    "## 2. BigDL-LLM Installation\n",
    "\n",
    "Install BigDL-LLM through:"
   ]
  },
  {
   "cell_type": "code",
   "execution_count": null,
   "metadata": {},
   "outputs": [],
   "source": [
    "!pip install bigdl-llm[all]"
   ]
  },
  {
   "attachments": {},
   "cell_type": "markdown",
   "metadata": {},
   "source": [
    "The all option is for installing other required packages by BigDL-LLM.\n",
    "\n",
    "## 3. Building an Application\n",
    "\n",
    "BigDL-LLM offers a Transformers-style API, which ensures that users familiar with Hugging Face transformers can have a unified and consistent experience. \n",
    "\n",
    "### 3.1 Load Model\n",
    "\n",
    "The first step is to import BigDL-LLM, and load the large language model with INT4 optimization:\n"
   ]
  },
  {
   "cell_type": "code",
   "execution_count": 1,
   "metadata": {},
   "outputs": [],
   "source": [
    "from bigdl.llm.transformers import AutoModelForCausalLM\n",
    "\n",
    "model = AutoModelForCausalLM.from_pretrained(pretrained_model_name_or_path=\"openlm-research/open_llama_3b\",\n",
    "                                             load_in_4bit=True)"
   ]
  },
  {
   "attachments": {},
   "cell_type": "markdown",
   "metadata": {},
   "source": [
    "> **Note**\n",
    ">\n",
    "> [`openlm-research/open_llama_3b`](https://huggingface.co/openlm-research/open_llama_3b) is the id for this pretrained model hosted on [huggingface.co](huggingface.co). By executing this `from_pretrained` function, the model will be downloaded to `~/.cache/huggingface` by default, and then be loaded and converted to BigDL-LLM INT4 format implicitly. You could set the environment variable `HF_HOME` to define where you want the model to be downloaded.\n",
    ">\n",
    "> If you have already downloaded the model, you could also specify `pretrained_model_name_or_path` parameter with the corresponding local path.\n",
    "\n",
    "\n",
    "### 3.2 Load Tokenizer\n",
    "\n",
    "The second step is to load the model's corresponding tokenizer:"
   ]
  },
  {
   "cell_type": "code",
   "execution_count": 2,
   "metadata": {},
   "outputs": [
    {
     "name": "stderr",
     "output_type": "stream",
     "text": [
      "You are using the legacy behaviour of the <class 'transformers.models.llama.tokenization_llama.LlamaTokenizer'>. This means that tokens that come after special tokens will not be properly handled. We recommend you to read the related pull request available at https://github.com/huggingface/transformers/pull/24565\n"
     ]
    }
   ],
   "source": [
    "from transformers import LlamaTokenizer\n",
    "\n",
    "tokenizer = LlamaTokenizer.from_pretrained(pretrained_model_name_or_path=\"openlm-research/open_llama_3b\")"
   ]
  },
  {
   "attachments": {},
   "cell_type": "markdown",
   "metadata": {},
   "source": [
    "### 3.3 Conduct Inference\n",
    "\n",
    "You could then conduct inference as using normal transformers API with very low latency. A Q&A dialog is created here for the model to complete:"
   ]
  },
  {
   "cell_type": "code",
   "execution_count": 3,
   "metadata": {},
   "outputs": [
    {
     "name": "stdout",
     "output_type": "stream",
     "text": [
      "Inference time: xxxx s\n",
      "-------------------- Prompt --------------------\n",
      "Q: What is AI?\n",
      "A:\n",
      "-------------------- Output --------------------\n",
      "Q: What is AI?\n",
      "A: Artificial Intelligence is the science of making machines do things that would require intelligence if done by a human.\n",
      "Q: What is the difference between AI and Machine Learning\n"
     ]
    }
   ],
   "source": [
    "import time\n",
    "import torch\n",
    "\n",
    "with torch.inference_mode():\n",
    "    prompt = 'Q: What is AI?\\nA:'\n",
    "    \n",
    "    # tokenize the input prompt from string to token ids\n",
    "    input_ids = tokenizer.encode(prompt, return_tensors=\"pt\")\n",
    "    st = time.time()\n",
    "    # predict the next tokens (maximum 32) based on the input token ids\n",
    "    output = model.generate(input_ids,\n",
    "                            max_new_tokens=32)\n",
    "    end = time.time()\n",
    "    # decode the predicted token ids to output string\n",
    "    output_str = tokenizer.decode(output[0], skip_special_tokens=True)\n",
    "    \n",
    "    print(f'Inference time: {end-st} s')\n",
    "    print('-'*20, 'Prompt', '-'*20)\n",
    "    print(prompt)\n",
    "    print('-'*20, 'Output', '-'*20)\n",
    "    print(output_str)"
   ]
  },
  {
   "attachments": {},
   "cell_type": "markdown",
   "metadata": {},
   "source": [
    "> **Note**\n",
    ">\n",
    "> `max_new_tokens` parameter in the `generate` function defines the maximum number of tokens to predict. \n",
    "\n",
    "\n",
    "## 4. What's Next?\n",
    "\n",
    "In the upcoming chapter, you will dive deeper into the usage of the BigDL-LLM Transformers-style API. The tutorials in the next chapter will also allow you to leverage the power of BigDL-LLM in different domains, such as speech recognition."
   ]
  }
 ],
 "metadata": {
  "kernelspec": {
   "display_name": "Python 3 (ipykernel)",
   "language": "python",
   "name": "python3"
  },
  "language_info": {
   "codemirror_mode": {
    "name": "ipython",
    "version": 3
   },
   "file_extension": ".py",
   "mimetype": "text/x-python",
   "name": "python",
   "nbconvert_exporter": "python",
   "pygments_lexer": "ipython3",
   "version": "3.9.17"
  }
 },
 "nbformat": 4,
 "nbformat_minor": 4
}
